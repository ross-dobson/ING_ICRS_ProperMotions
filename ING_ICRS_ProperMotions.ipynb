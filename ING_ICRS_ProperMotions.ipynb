{
 "cells": [
  {
   "cell_type": "markdown",
   "id": "854a7250-9f92-4e41-9956-8f15f95feeff",
   "metadata": {},
   "source": [
    "# Convert ICRS proper motions to ING TCS format\n",
    "ICRS proper motions for both Right Ascension and Declination, $\\mu_\\alpha$ and $\\mu_\\delta$ respectively, are generally quoted in units of milliarcseconds (mas) per year. However the [ING TCS catalogue format](https://www.ing.iac.es/Astronomy/telescopes/wht/catformat.html) used on the Isaac Newton Telescope and William Herschel Telescopes requires $\\mu_\\alpha$ in seconds per year (i.e. seconds of \"time\"/right ascension, not arcseconds of a degree!), and $\\mu_\\delta$ in arcseconds per year.\n",
    "\n",
    "For $\\mu_\\delta$, that's an easy enough conversion - just multiply by 1000. For the proper motion in right ascension though, the calculation is less straightforward, as we need to convert from arcseconds of degree to seconds of right ascension, using $ 15^\" \\times \\cos(\\delta) $, where $\\delta$ is the declination of the target in degrees.\n",
    "\n",
    "**N.B. This is for proper motion of targets that will still be sidereally tracked. This is _not_ for differential/non-sidereal tracking (e.g. asteroids), which are in second/second and arcsecond/second respectively. See [the TCS manual](https://www.ing.iac.es/~docs/int/tcs/int-tcs-1/int-tcs-1.pdf) for more information.**"
   ]
  },
  {
   "cell_type": "code",
   "execution_count": null,
   "id": "6607890f-346c-4706-b7d8-499f24a372ba",
   "metadata": {},
   "outputs": [],
   "source": [
    "import numpy as np\n",
    "import astropy.units as u\n",
    "from astropy.coordinates import Angle\n",
    "\n",
    "def convert_icrs_pm_ra(pm_mas_per_year, declination):\n",
    "    \"\"\"Converts proper motion in RA from mas per year to seconds (of right ascension) per year.\"\"\"\n",
    "    ARCSECONDS_PER_SECOND = 15*np.cos(declination) * (u.arcsecond/u.second)  # this is a constant (well, constant at a given declination)\n",
    "    \n",
    "    pm_arcseconds_per_year = pm_mas_per_year.to(u.arcsecond/u.year)\n",
    "    pm_seconds_per_year = pm_arcseconds_per_year / ARCSECONDS_PER_SECOND\n",
    "    return pm_seconds_per_year"
   ]
  },
  {
   "cell_type": "markdown",
   "id": "e4c23c6b-2330-4ce4-b866-1fc0b6c6f2e7",
   "metadata": {},
   "source": [
    "### Example\n",
    "\n",
    "For an input of $\\mu_\\alpha=450$ mas/yr and $\\mu_\\delta=-300$mas/yr, at a declination $\\delta=60\\degree$ we should get $\\mu_\\alpha=0.06^\\text{s}\\text{yr}^{-1}$ and $\\mu_\\delta=-0.3^\\text{'}\\text{yr}^{-1}$."
   ]
  },
  {
   "cell_type": "code",
   "execution_count": null,
   "id": "62d86f85-7466-4259-afa5-f2a8cec938c9",
   "metadata": {},
   "outputs": [],
   "source": [
    "declination = Angle(\"+60:00:00 degrees\")\n",
    "\n",
    "pm_ra_icrs = 450 * u.mas/u.yr\n",
    "pm_dec_icrs = -300 * u.mas/u.yr"
   ]
  },
  {
   "cell_type": "code",
   "execution_count": null,
   "id": "43b7845a-ecdf-4752-82cc-e2c53aeb5e01",
   "metadata": {},
   "outputs": [],
   "source": [
    "pm_ra = convert_icrs_pm_ra(pm_ra_icrs, declination)\n",
    "pm_dec = pm_dec_icrs.to(u.arcsecond/u.year)"
   ]
  },
  {
   "cell_type": "code",
   "execution_count": null,
   "id": "dc8a8362-a94a-4deb-ba4a-845dd85206c8",
   "metadata": {},
   "outputs": [],
   "source": [
    "print(pm_ra, pm_dec)"
   ]
  }
 ],
 "metadata": {
  "kernelspec": {
   "display_name": "Python 3 (ipykernel)",
   "language": "python",
   "name": "python3"
  },
  "language_info": {
   "codemirror_mode": {
    "name": "ipython",
    "version": 3
   },
   "file_extension": ".py",
   "mimetype": "text/x-python",
   "name": "python",
   "nbconvert_exporter": "python",
   "pygments_lexer": "ipython3",
   "version": "3.10.13"
  }
 },
 "nbformat": 4,
 "nbformat_minor": 5
}
